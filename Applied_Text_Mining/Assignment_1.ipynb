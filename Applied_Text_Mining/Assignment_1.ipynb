{
 "cells": [
  {
   "cell_type": "markdown",
   "metadata": {},
   "source": [
    "---\n",
    "\n",
    "_You are currently looking at **version 1.1** of this notebook. To download notebooks and datafiles, as well as get help on Jupyter notebooks in the Coursera platform, visit the [Jupyter Notebook FAQ](https://www.coursera.org/learn/python-text-mining/resources/d9pwm) course resource._\n",
    "\n",
    "---"
   ]
  },
  {
   "cell_type": "markdown",
   "metadata": {},
   "source": [
    "# Assignment 1\n",
    "\n",
    "In this assignment, you'll be working with messy medical data and using regex to extract relevant infromation from the data. \n",
    "\n",
    "Each line of the `dates.txt` file corresponds to a medical note. Each note has a date that needs to be extracted, but each date is encoded in one of many formats.\n",
    "\n",
    "The goal of this assignment is to correctly identify all of the different date variants encoded in this dataset and to properly normalize and sort the dates. \n",
    "\n",
    "Here is a list of some of the variants you might encounter in this dataset:\n",
    "* 04/20/2009; 04/20/09; 4/20/09; 4/3/09\n",
    "* Mar-20-2009; Mar 20, 2009; March 20, 2009;  Mar. 20, 2009; Mar 20 2009;\n",
    "* 20 Mar 2009; 20 March 2009; 20 Mar. 2009; 20 March, 2009\n",
    "* Mar 20th, 2009; Mar 21st, 2009; Mar 22nd, 2009\n",
    "* Feb 2009; Sep 2009; Oct 2010\n",
    "* 6/2008; 12/2009\n",
    "* 2009; 2010\n",
    "\n",
    "Once you have extracted these date patterns from the text, the next step is to sort them in ascending chronological order accoring to the following rules:\n",
    "* Assume all dates in xx/xx/xx format are mm/dd/yy\n",
    "* Assume all dates where year is encoded in only two digits are years from the 1900's (e.g. 1/5/89 is January 5th, 1989)\n",
    "* If the day is missing (e.g. 9/2009), assume it is the first day of the month (e.g. September 1, 2009).\n",
    "* If the month is missing (e.g. 2010), assume it is the first of January of that year (e.g. January 1, 2010).\n",
    "* Watch out for potential typos as this is a raw, real-life derived dataset.\n",
    "\n",
    "With these rules in mind, find the correct date in each note and return a pandas Series in chronological order of the original Series' indices.\n",
    "\n",
    "For example if the original series was this:\n",
    "\n",
    "    0    1999\n",
    "    1    2010\n",
    "    2    1978\n",
    "    3    2015\n",
    "    4    1985\n",
    "\n",
    "Your function should return this:\n",
    "\n",
    "    0    2\n",
    "    1    4\n",
    "    2    0\n",
    "    3    1\n",
    "    4    3\n",
    "\n",
    "Your score will be calculated using [Kendall's tau](https://en.wikipedia.org/wiki/Kendall_rank_correlation_coefficient), a correlation measure for ordinal data.\n",
    "\n",
    "*This function should return a Series of length 500 and dtype int.*"
   ]
  },
  {
   "cell_type": "code",
   "execution_count": 10,
   "metadata": {},
   "outputs": [
    {
     "data": {
      "text/plain": [
       "0         03/25/93 Total time of visit (in minutes):\\n\n",
       "1                       6/18/85 Primary Care Doctor:\\n\n",
       "2    sshe plans to move as of 7/8/71 In-Home Servic...\n",
       "3                7 on 9/27/75 Audit C Score Current:\\n\n",
       "4    2/6/96 sleep studyPain Treatment Pain Level (N...\n",
       "5                    .Per 7/06/79 Movement D/O note:\\n\n",
       "6    4, 5/18/78 Patient's thoughts about current su...\n",
       "7    10/24/89 CPT Code: 90801 - Psychiatric Diagnos...\n",
       "8                         3/7/86 SOS-10 Total Score:\\n\n",
       "9             (4/10/71)Score-1Audit C Score Current:\\n\n",
       "dtype: object"
      ]
     },
     "execution_count": 10,
     "metadata": {},
     "output_type": "execute_result"
    }
   ],
   "source": [
    "import pandas as pd\n",
    "\n",
    "doc = []\n",
    "with open('dates.txt') as file:\n",
    "    for line in file:\n",
    "        doc.append(line)\n",
    "\n",
    "df = pd.Series(doc)\n",
    "df.head(10)"
   ]
  },
  {
   "cell_type": "markdown",
   "metadata": {},
   "source": [
    "# Patterns"
   ]
  },
  {
   "cell_type": "code",
   "execution_count": 11,
   "metadata": {
    "collapsed": true
   },
   "outputs": [],
   "source": [
    "def date_sorter():\n",
    "    \n",
    "    import numpy as np, datetime as datetime\n",
    "\n",
    "    p1 = r'((?P<Month>\\d{1,2})[/|-](?P<Day>\\d{1,2})[/|-](?P<Year>[^3]\\d{1,3}))'\n",
    "    p2 = r'((?P<Day>\\d{2})[-,.]? (?P<Month>(?:Jan|Feb|Mar|Apr|May|Jun|Jul|Aug|Sep|Oct|Nov|Dec)[a-z]*)[.]?[-,.]? (?P<Year>\\d{4}))'\n",
    "    p3 = r'((?P<Month>(?:Jan|Feb|Mar|Apr|May|Jun|Jul|Aug|Sep|Oct|Nov|Dec)[a-z]*)[.]?[-,.]?[- ]?(?P<Day>\\d{2})[-,.]?[ ]?(?P<Year>\\d{4}))'\n",
    "    p4 = r'((?P<Month>(?:Jan|Feb|Mar|Apr|May|Jun|Jul|Aug|Sep|Oct|Nov|Dec)[a-z]*?)[,-]? (?P<Year>[12]\\d{3}))'\n",
    "    p5 = r'((?P<Month>\\d{1,2})/(?P<Year>\\d{4}))'\n",
    "    p6 = r'((?P<Year>[12]\\d{3}))'\n",
    "\n",
    "    df_A = df.str.extractall(p1)\n",
    "    df_A_ix = [x[0] for x in df_A.index.values]\n",
    "    df_A['Year'] = df_A['Year'].str.replace(r'(^\\d{2}$)', lambda x: '19'+ x.groups()[0])\n",
    "    df_A['Month'] = df_A['Month'].str.replace(r'(^0\\d{1}$)', lambda x: x.groups()[0][1:])\n",
    "    df_A = df_A[['Year','Month','Day']]\n",
    "\n",
    "    df_B = df.iloc[df_A_ix[-1]+1:].str.extractall(p2)\n",
    "    df_B_ix = [x[0] for x in df_B.index.values]\n",
    "    df_B['Month'] = df_B['Month'].str.replace(r'(\\w+)',lambda x: x.groups()[0][:3])\n",
    "    df_B['Month'] = df_B['Month'].replace({'Jan':1, 'Feb':2,'Mar':3,'Apr':4,'May':5,'Jun':6,\n",
    "                        'Jul':7,'Aug':8,'Sep':9,'Oct':10, 'Nov':11, 'Dec':12})\n",
    "    df_B = df_B[['Year','Month','Day']]\n",
    "\n",
    "    df_C = df.iloc[df_B_ix[-1]+1:].str.extractall(p3)\n",
    "    df_C_ix = [x[0] for x in df_C.index.values]\n",
    "    df_C['Month'] = df_C['Month'].str.replace(r'(\\w+)',lambda x: x.groups()[0][:3])\n",
    "    df_C['Month'] = df_C['Month'].replace({'Jan':1, 'Feb':2,'Mar':3,'Apr':4,'May':5,'Jun':6,\n",
    "                        'Jul':7,'Aug':8,'Sep':9,'Oct':10, 'Nov':11, 'Dec':12})\n",
    "    df_C = df_C[['Year','Month','Day']]\n",
    "\n",
    "    df_D = df.iloc[df_C_ix[-1]+1:].str.extractall(p4)\n",
    "    df_D_ix = [x[0] for x in df_D.index.values]\n",
    "    df_D['Month'] = df_D['Month'].str.replace(r'(\\w+)',lambda x: x.groups()[0][:3])\n",
    "    df_D['Month'] = df_D['Month'].replace({'Jan':1, 'Feb':2,'Mar':3,'Apr':4,'May':5,'Jun':6,\n",
    "                        'Jul':7,'Aug':8,'Sep':9,'Oct':10, 'Nov':11, 'Dec':12})\n",
    "    df_D['Day'] = 1\n",
    "    df_D = df_D[['Year','Month','Day']]\n",
    "\n",
    "    df_E = df.iloc[df_D_ix[-1]+1:].str.extractall(p5)\n",
    "    df_E_ix = [x[0] for x in df_E.index.values]\n",
    "    df_E['Day'] = 1\n",
    "    df_E = df_E[['Year','Month','Day']]\n",
    "\n",
    "    df_F = df.iloc[df_E_ix[-1]+1:].str.extractall(p6)\n",
    "    df_F_ix = [x[0] for x in df_F.index.values]\n",
    "    df_F['Month'] = 1\n",
    "    df_F['Day'] = 1\n",
    "    df_F = df_F[['Year','Month','Day']]\n",
    "\n",
    "    df_full = pd.concat([df_A, df_B, df_C, df_D, df_E, df_F])\n",
    "    df_time = pd.to_datetime(df_full)\n",
    "\n",
    "    dfsort = pd.DataFrame({'rank': df_time.index.levels[0], 'time':df_time.values})\n",
    "    dfsort.sort_values('time', inplace=True)\n",
    "\n",
    "    \n",
    "    \n",
    "    return dfsort['rank']"
   ]
  },
  {
   "cell_type": "code",
   "execution_count": 14,
   "metadata": {},
   "outputs": [
    {
     "data": {
      "text/plain": [
       "9        9\n",
       "84      84\n",
       "2        2\n",
       "53      53\n",
       "28      28\n",
       "474    474\n",
       "153    153\n",
       "13      13\n",
       "129    129\n",
       "98      98\n",
       "111    111\n",
       "225    225\n",
       "31      31\n",
       "171    171\n",
       "191    191\n",
       "486    486\n",
       "335    335\n",
       "415    415\n",
       "36      36\n",
       "405    405\n",
       "323    323\n",
       "422    422\n",
       "375    375\n",
       "380    380\n",
       "345    345\n",
       "57      57\n",
       "481    481\n",
       "436    436\n",
       "104    104\n",
       "299    299\n",
       "      ... \n",
       "220    220\n",
       "208    208\n",
       "243    243\n",
       "139    139\n",
       "320    320\n",
       "383    383\n",
       "244    244\n",
       "286    286\n",
       "480    480\n",
       "431    431\n",
       "279    279\n",
       "198    198\n",
       "381    381\n",
       "463    463\n",
       "366    366\n",
       "439    439\n",
       "255    255\n",
       "401    401\n",
       "475    475\n",
       "257    257\n",
       "152    152\n",
       "235    235\n",
       "464    464\n",
       "253    253\n",
       "427    427\n",
       "231    231\n",
       "141    141\n",
       "186    186\n",
       "161    161\n",
       "413    413\n",
       "Name: rank, Length: 500, dtype: int64"
      ]
     },
     "execution_count": 14,
     "metadata": {},
     "output_type": "execute_result"
    }
   ],
   "source": [
    "date_sorter()"
   ]
  }
 ],
 "metadata": {
  "coursera": {
   "course_slug": "python-text-mining",
   "graded_item_id": "LvcWI",
   "launcher_item_id": "krne9",
   "part_id": "Mkp1I"
  },
  "kernelspec": {
   "display_name": "Python 3",
   "language": "python",
   "name": "python3"
  },
  "language_info": {
   "codemirror_mode": {
    "name": "ipython",
    "version": 3
   },
   "file_extension": ".py",
   "mimetype": "text/x-python",
   "name": "python",
   "nbconvert_exporter": "python",
   "pygments_lexer": "ipython3",
   "version": "3.6.1"
  }
 },
 "nbformat": 4,
 "nbformat_minor": 2
}
